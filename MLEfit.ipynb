{
 "cells": [
  {
   "cell_type": "markdown",
   "id": "65feb311-0118-4e80-80da-55edea474c82",
   "metadata": {},
   "source": [
    "# MLE exponential fit\n",
    "The following notebook shows how to compute the parameters of a single and a double exponential fit of a histogram of residence times of enzymes. This is used to calculate the rate constant koff of the enzymes. \n",
    "We show that a single exponential does not fully describe the data but a double does."
   ]
  },
  {
   "cell_type": "code",
   "execution_count": 1,
   "id": "641ddca6-3674-446b-a7b4-1074992eeaab",
   "metadata": {},
   "outputs": [],
   "source": [
    "import numpy as np\n",
    "import pandas as pd\n",
    "import matplotlib.pyplot as plt\n",
    "from scipy.stats import expon\n",
    "from scipy.optimize import minimize\n",
    "from scipy.stats import chi2\n",
    "from scipy.special import gammaln\n",
    "from scipy.stats import chisquare\n",
    "from scipy.stats import norm\n",
    "import numdifftools as ndt"
   ]
  },
  {
   "cell_type": "code",
   "execution_count": 2,
   "id": "f90016bf-4787-4844-bcdb-6e1359383fa3",
   "metadata": {},
   "outputs": [],
   "source": [
    "# File path\n",
    "filename = r'C:\\Users\\emily\\Locs.csv'\n",
    "fname = r'C:\\Users\\emily\\\\'\n",
    "OutName = 'DoubleMLE'\n",
    "\n",
    "# Read the data using pandas\n",
    "data = pd.read_csv(filename)\n",
    "\n",
    "# Binning and timescale\n",
    "binning = 4  # If data are 4 times binned\n",
    "timescale = 2  # To convert to seconds\n",
    "\n",
    "# Extract data and set conditions\n",
    "residenceTime_Cy5 = data.loc[\n",
    "    (data['TRACK_STOP'] < 999) & (data['TRACK_START'] > 100),\n",
    "    'TRACK_DURATION'] * timescale\n",
    "\n",
    "# Calculate the number of data points\n",
    "N = len(residenceTime_Cy5)\n",
    "#print(N) "
   ]
  },
  {
   "cell_type": "code",
   "execution_count": 3,
   "id": "3891c017-915d-4721-a497-7ce1604f53e0",
   "metadata": {},
   "outputs": [],
   "source": [
    "# Single exponential doesn't fit well\n",
    "tauMLE = np.mean(residenceTime_Cy5)\n",
    "\n",
    "# Function for single exponential\n",
    "def singleExp(x, mu):\n",
    "    return (1 / mu) * np.exp(-x / mu)\n",
    "\n",
    "# MLE with custom function\n",
    "result = minimize(lambda mu: -np.sum(np.log(singleExp(residenceTime_Cy5, mu))), x0=[30])\n",
    "phatExpSingle = result.x[0]\n",
    "sigma_tau = np.sqrt(result.hess_inv[0][0])\n",
    "\n",
    "\n",
    "# We need the histogram\n",
    "Nbins = np.arange(0, residenceTime_Cy5.max(),43)\n",
    "plt.figure(figsize=(10, 6))\n",
    "h1 = plt.hist(residenceTime_Cy5, bins=Nbins, facecolor=[0, 0.4470, 0.7410],linestyle='solid',edgecolor = 'black', alpha=0.7)\n",
    "plt.close()\n",
    "\n",
    "# Calculate expected counts\n",
    "binEdges = h1[1]\n",
    "binCenters = binEdges[:-1] + np.diff(binEdges) / 2\n",
    "expectedCounts = N * (expon.cdf(binEdges[1:], scale=tauMLE) - expon.cdf(binEdges[:-1], scale=tauMLE))\n",
    "sigmaCounts = np.sqrt(expectedCounts)"
   ]
  },
  {
   "cell_type": "code",
   "execution_count": 4,
   "id": "4e254245-44fc-43ac-b9ce-ab5f9515e6f7",
   "metadata": {},
   "outputs": [
    {
     "name": "stdout",
     "output_type": "stream",
     "text": [
      "Chi-squared stat (Single Exp): 266.8750524612784\n",
      "p-value (Single Exp): 2.9658925102639533e-46\n",
      "Single Exp Fit:\n",
      "mu = 57.57 ± 1.18\n",
      "p-value = 0.0000\n"
     ]
    },
    {
     "data": {
      "image/png": "[encoded data removed]",
      "text/plain": [
       "<Figure size 720x432 with 1 Axes>"
      ]
     },
     "metadata": {
      "needs_background": "light"
     },
     "output_type": "display_data"
    }
   ],
   "source": [
    "# We plot them together\n",
    "Nbins = np.arange(0, residenceTime_Cy5.max(), 43)\n",
    "plt.figure(figsize=(10, 6))\n",
    "h1 = plt.hist(residenceTime_Cy5, bins=Nbins, facecolor=[0, 0.4470, 0.7410], linestyle='solid', edgecolor='black', alpha=0.7)\n",
    "\n",
    "# Bin centers\n",
    "binEdges = h1[1]\n",
    "binCenters = binEdges[:-1] + np.diff(binEdges) / 2\n",
    "expectedCounts = N * (expon.cdf(binEdges[1:], scale=tauMLE) - expon.cdf(binEdges[:-1], scale=tauMLE))\n",
    "sigmaCounts = np.sqrt(expectedCounts)\n",
    "\n",
    "# Plot expected number of counts with error bars\n",
    "plt.errorbar(binCenters, expectedCounts, yerr=sigmaCounts, fmt='r-', linewidth=2)\n",
    "plt.yscale('log')\n",
    "plt.xlabel('Residence time (s)')\n",
    "plt.ylabel('Counts')\n",
    "plt.ylim([0.1, 1e4])\n",
    "\n",
    "\n",
    "#For p value of fit\n",
    "def calculate_expected_frequencies_single(cdf_function, data, bin_edges):\n",
    "    cdf_values = cdf_function(bin_edges, scale=tauMLE)\n",
    "    expected_frequencies = np.diff(cdf_values) * len(data)\n",
    "    return expected_frequencies\n",
    "\n",
    "# Calculate the expected frequencies using the fitted CDF for single exponential\n",
    "expected_freq_single = calculate_expected_frequencies_single(expon.cdf, residenceTime_Cy5, binEdges)\n",
    "# Calculate the observed frequencies from the data\n",
    "observed_freq_single, _ = np.histogram(residenceTime_Cy5, bins=Nbins)\n",
    "\n",
    "# Perform the chi-squared test for single exponential\n",
    "chi_stat_single, p_value_single = chisquare(f_obs=observed_freq_single, f_exp=expected_freq_single)\n",
    "\n",
    "# Print the p-value\n",
    "print(f\"Chi-squared stat (Single Exp): {chi_stat_single}\")\n",
    "print(f\"p-value (Single Exp): {p_value_single}\")\n",
    "\n",
    "# Annotating the plot with fit results\n",
    "fit_results_text = (\n",
    "    f\"Single Exp Fit:\\n\"\n",
    "    f\"mu = {tauMLE:.2f} ± {sigma_tau:.2f}\\n\"\n",
    "    f\"p-value = {p_value_single:.4f}\"\n",
    ")\n",
    "print(fit_results_text)\n",
    "plt.annotate(fit_results_text, xy=(0.75, 0.95), xycoords='axes fraction', \n",
    "             verticalalignment='top', bbox=dict(boxstyle=\"round,pad=0.3\", edgecolor=\"black\", facecolor=\"white\"))\n",
    "\n",
    "plt.show()\n"
   ]
  },
  {
   "cell_type": "code",
   "execution_count": 5,
   "id": "08357cfc-1257-44f2-b239-9d9d1d9b3b6c",
   "metadata": {},
   "outputs": [
    {
     "name": "stdout",
     "output_type": "stream",
     "text": [
      "Optimization successful. Fitted parameters: [1.54160636e+02 4.63764205e+01 1.03890620e-01]\n"
     ]
    }
   ],
   "source": [
    "# MLE fit to data with double-exponential\n",
    "def doubleExp(x, mu1, mu2, W):\n",
    "    return W * (1 / mu1) * np.exp(-x / mu1) + (1 - W) * (1 / mu2) * np.exp(-x / mu2)\n",
    "\n",
    "def neg_log_likelihood(params):\n",
    "    mu1, mu2, W = params\n",
    "    likelihood = doubleExp(residenceTime_Cy5, mu1, mu2, W)\n",
    "    likelihood[likelihood == 0] = 1e-10  # Avoid log of zero\n",
    "    return -np.sum(np.log(likelihood))\n",
    "\n",
    "initial_params = [100, 50, 0.5]  # Adjust these based on your data or try different values\n",
    "\n",
    "result = minimize(neg_log_likelihood, initial_params, method='Nelder-Mead')\n",
    "## calculating errors from hessian matrix using numdifftools\n",
    "Hfun = ndt.Hessian(neg_log_likelihood, full_output=True)\n",
    "hessian_ndt, info = Hfun(result.x)\n",
    "hess_inv=np.linalg.inv(hessian_ndt)\n",
    "\n",
    "if result.success:\n",
    "    mu1_fit, mu2_fit, W_fit = result.x\n",
    "    print(\"Optimization successful. Fitted parameters:\", result.x)\n",
    "else:\n",
    "    print(\"Optimization failed:\", result.message)\n",
    "    mu1_fit, mu2_fit, W_fit = [np.nan, np.nan, np.nan]\n",
    "\n",
    "# Calculate the covariance matrix of the fitted parameters\n",
    "acov_double = hess_inv\n",
    "sigma_mu1 = np.sqrt(acov_double[0, 0])\n",
    "sigma_mu2 = np.sqrt(acov_double[1, 1])\n",
    "\n",
    "# print(\"sigma_mu1\", sigma_mu1)\n",
    "# print(\"sigma_mu2\", sigma_mu2)\n",
    "# print(\"mu1_fit\", mu1_fit)\n",
    "# print(\"mu2_fit\", mu2_fit)\n",
    "# print(\"W_fit\", W_fit)\n",
    "\n",
    "def fittedDoubleCDF(t):\n",
    "    return W_fit * (1 - np.exp(-t / mu1_fit)) + (1 - W_fit) * (1 - np.exp(-t / mu2_fit))"
   ]
  },
  {
   "cell_type": "code",
   "execution_count": 6,
   "id": "e5b2d1da-3a7d-4fc9-9eb8-74f36d0c04be",
   "metadata": {},
   "outputs": [
    {
     "name": "stdout",
     "output_type": "stream",
     "text": [
      "20\n",
      "Double Exp Fit:\n",
      "mu1 = 154.16 ± 20.96\n",
      "mu2 = 46.38 ± 1.69\n",
      "p-value = 0.2519\n"
     ]
    },
    {
     "data": {
      "image/png": "[encoded data removed]",
      "text/plain": [
       "<Figure size 720x432 with 1 Axes>"
      ]
     },
     "metadata": {
      "needs_background": "light"
     },
     "output_type": "display_data"
    }
   ],
   "source": [
    "# Do some plotting:\n",
    "Nbins=np.arange(0, residenceTime_Cy5.max(),43) \n",
    "print(len(Nbins))\n",
    "fig, ax = plt.subplots(figsize=(10, 6))\n",
    "h2, binEdges, _ = ax.hist(residenceTime_Cy5, bins=Nbins,linestyle='solid',edgecolor = 'black', alpha=0.7)\n",
    "ax.set_yscale(\"log\")\n",
    "# Corrected expected counts calculation for double exponential\n",
    "expectedCountsDouble = N * (\n",
    "    W_fit * (expon.cdf(binEdges[1:], scale=mu1_fit) - expon.cdf(binEdges[:-1], scale=mu1_fit)) \n",
    "    + (1 - W_fit) * (expon.cdf(binEdges[1:], scale=mu2_fit) - expon.cdf(binEdges[:-1], scale=mu2_fit))\n",
    ")\n",
    "\n",
    "sigmaCountsDouble = np.sqrt(expectedCountsDouble)\n",
    "\n",
    "#For p value of fit\n",
    "def calculate_expected_frequencies(cdf_function, data, bin_edges):\n",
    "    cdf_values = cdf_function(bin_edges)\n",
    "    expected_frequencies = np.diff(cdf_values) * len(data)\n",
    "    return expected_frequencies, bin_edges\n",
    "# Calculate the expected frequencies using the fitted CDF\n",
    "expected_freq, bin_edges = calculate_expected_frequencies(fittedDoubleCDF, residenceTime_Cy5, binEdges)\n",
    "# Calculate the observed frequencies from the data\n",
    "observed_freq, _ = np.histogram(residenceTime_Cy5, bins=Nbins)\n",
    "# Perform the chi-squared test\n",
    "chi_stat, pDouble = chisquare(f_obs=observed_freq, f_exp=expected_freq)\n",
    "# print(\"expected_freq\", expected_freq)\n",
    "# print(\"observed_freq\", observed_freq)\n",
    "\n",
    "    \n",
    "# Plotting the histogram and the expected counts for double exponential\n",
    "ax.errorbar(binEdges[:-1]+21, expectedCountsDouble, yerr=sigmaCountsDouble, fmt='r-', linewidth=3, solid_capstyle='projecting', capsize=5)\n",
    "ax.set_yscale('log')\n",
    "ax.set_xlabel('Residence time (s)')\n",
    "ax.set_ylabel('Counts')\n",
    "ax.set_ylim(0.1, 1e4)\n",
    "\n",
    "# Annotating the plot with fit results\n",
    "fit_results_text = (\n",
    "    f\"Double Exp Fit:\\n\"\n",
    "    f\"mu1 = {mu1_fit:.2f} ± {sigma_mu1:.2f}\\n\"\n",
    "    f\"mu2 = {mu2_fit:.2f} ± {sigma_mu2:.2f}\\n\"\n",
    "   f\"p-value = {pDouble:.4f}\"\n",
    "\n",
    ")\n",
    "print(fit_results_text)\n",
    "ax.annotate(fit_results_text, xy=(0.75, 0.95), xycoords='axes fraction', \n",
    "            verticalalignment='top', bbox=dict(boxstyle=\"round,pad=0.3\", edgecolor=\"black\", facecolor=\"white\"))\n",
    "\n",
    "#plt.savefig(fname + 'MLE_double_exp.pdf', format='pdf')\n",
    "#plt.close()\n",
    "\n",
    "# Saving fitted parameters\n",
    "params_new = [mu1_fit, mu2_fit, sigma_mu1, sigma_mu2, W_fit]\n",
    "headers = ['mu1_fit', 'mu2_fit', 'sigma_mu1', 'sigma_mu2', 'W_fit']\n",
    "np.savetxt(fname + 'FittingParams.csv', params_new, delimiter=',', header=','.join(headers), comments='')"
   ]
  },
  {
   "cell_type": "code",
   "execution_count": null,
   "id": "739dadc8-2936-4288-8fe1-e974e64e7862",
   "metadata": {},
   "outputs": [],
   "source": []
  },
  {
   "cell_type": "code",
   "execution_count": null,
   "id": "ee8ecacd-e7db-405c-b5be-f80ab299dfac",
   "metadata": {},
   "outputs": [],
   "source": []
  },
  {
   "cell_type": "code",
   "execution_count": null,
   "id": "264dc3a0-cd46-42a7-afaf-9aa74d0c18ec",
   "metadata": {},
   "outputs": [],
   "source": []
  }
 ],
 "metadata": {
  "kernelspec": {
   "display_name": "Python 3",
   "language": "python",
   "name": "python3"
  },
  "language_info": {
   "codemirror_mode": {
    "name": "ipython",
    "version": 3
   },
   "file_extension": ".py",
   "mimetype": "text/x-python",
   "name": "python",
   "nbconvert_exporter": "python",
   "pygments_lexer": "ipython3",
   "version": "3.8.8"
  }
 },
 "nbformat": 4,
 "nbformat_minor": 5
}
